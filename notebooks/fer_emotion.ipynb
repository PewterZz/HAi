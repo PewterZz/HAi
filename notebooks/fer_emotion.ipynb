{
 "cells": [
  {
   "cell_type": "code",
   "execution_count": 3,
   "id": "52b29014-e042-41c0-8474-f531f2c2bd5d",
   "metadata": {},
   "outputs": [
    {
     "name": "stdout",
     "output_type": "stream",
     "text": [
      "Collecting tensorflow\n",
      "  Using cached tensorflow-2.15.0-cp39-cp39-win_amd64.whl (2.1 kB)\n",
      "Collecting tensorflow-intel==2.15.0\n",
      "  Using cached tensorflow_intel-2.15.0-cp39-cp39-win_amd64.whl (300.8 MB)\n",
      "Requirement already satisfied: grpcio<2.0,>=1.24.3 in c:\\users\\acer\\anaconda3\\lib\\site-packages (from tensorflow-intel==2.15.0->tensorflow) (1.42.0)\n",
      "Collecting tensorflow-estimator<2.16,>=2.15.0\n",
      "  Using cached tensorflow_estimator-2.15.0-py2.py3-none-any.whl (441 kB)\n",
      "Collecting libclang>=13.0.0\n",
      "  Using cached libclang-16.0.6-py2.py3-none-win_amd64.whl (24.4 MB)\n",
      "Requirement already satisfied: six>=1.12.0 in c:\\users\\acer\\anaconda3\\lib\\site-packages (from tensorflow-intel==2.15.0->tensorflow) (1.16.0)\n",
      "Collecting absl-py>=1.0.0\n",
      "  Using cached absl_py-2.0.0-py3-none-any.whl (130 kB)\n",
      "Collecting google-pasta>=0.1.1\n",
      "  Using cached google_pasta-0.2.0-py3-none-any.whl (57 kB)\n",
      "Collecting termcolor>=1.1.0\n",
      "  Using cached termcolor-2.4.0-py3-none-any.whl (7.7 kB)\n",
      "Requirement already satisfied: numpy<2.0.0,>=1.23.5 in c:\\users\\acer\\anaconda3\\lib\\site-packages (from tensorflow-intel==2.15.0->tensorflow) (1.26.2)\n",
      "Collecting tensorboard<2.16,>=2.15\n",
      "  Using cached tensorboard-2.15.1-py3-none-any.whl (5.5 MB)\n",
      "Requirement already satisfied: setuptools in c:\\users\\acer\\anaconda3\\lib\\site-packages (from tensorflow-intel==2.15.0->tensorflow) (61.2.0)\n",
      "Requirement already satisfied: protobuf!=4.21.0,!=4.21.1,!=4.21.2,!=4.21.3,!=4.21.4,!=4.21.5,<5.0.0dev,>=3.20.3 in c:\\users\\acer\\anaconda3\\lib\\site-packages (from tensorflow-intel==2.15.0->tensorflow) (4.23.4)\n",
      "Collecting gast!=0.5.0,!=0.5.1,!=0.5.2,>=0.2.1\n",
      "  Using cached gast-0.5.4-py3-none-any.whl (19 kB)\n",
      "Collecting ml-dtypes~=0.2.0\n",
      "  Using cached ml_dtypes-0.2.0-cp39-cp39-win_amd64.whl (938 kB)\n",
      "Requirement already satisfied: typing-extensions>=3.6.6 in c:\\users\\acer\\anaconda3\\lib\\site-packages (from tensorflow-intel==2.15.0->tensorflow) (4.1.1)\n",
      "Requirement already satisfied: packaging in c:\\users\\acer\\anaconda3\\lib\\site-packages (from tensorflow-intel==2.15.0->tensorflow) (21.3)\n",
      "Collecting keras<2.16,>=2.15.0\n",
      "  Using cached keras-2.15.0-py3-none-any.whl (1.7 MB)\n",
      "Requirement already satisfied: h5py>=2.9.0 in c:\\users\\acer\\anaconda3\\lib\\site-packages (from tensorflow-intel==2.15.0->tensorflow) (3.6.0)\n",
      "Collecting astunparse>=1.6.0\n",
      "  Using cached astunparse-1.6.3-py2.py3-none-any.whl (12 kB)\n",
      "Collecting tensorflow-io-gcs-filesystem>=0.23.1\n",
      "  Using cached tensorflow_io_gcs_filesystem-0.31.0-cp39-cp39-win_amd64.whl (1.5 MB)\n",
      "Collecting flatbuffers>=23.5.26\n",
      "  Using cached flatbuffers-23.5.26-py2.py3-none-any.whl (26 kB)\n",
      "Requirement already satisfied: wrapt<1.15,>=1.11.0 in c:\\users\\acer\\anaconda3\\lib\\site-packages (from tensorflow-intel==2.15.0->tensorflow) (1.12.1)\n",
      "Collecting opt-einsum>=2.3.2\n",
      "  Using cached opt_einsum-3.3.0-py3-none-any.whl (65 kB)\n",
      "Requirement already satisfied: wheel<1.0,>=0.23.0 in c:\\users\\acer\\anaconda3\\lib\\site-packages (from astunparse>=1.6.0->tensorflow-intel==2.15.0->tensorflow) (0.37.1)\n",
      "Requirement already satisfied: google-auth<3,>=1.6.3 in c:\\users\\acer\\anaconda3\\lib\\site-packages (from tensorboard<2.16,>=2.15->tensorflow-intel==2.15.0->tensorflow) (2.25.2)\n",
      "Requirement already satisfied: tensorboard-data-server<0.8.0,>=0.7.0 in c:\\users\\acer\\anaconda3\\lib\\site-packages (from tensorboard<2.16,>=2.15->tensorflow-intel==2.15.0->tensorflow) (0.7.2)\n",
      "Requirement already satisfied: markdown>=2.6.8 in c:\\users\\acer\\anaconda3\\lib\\site-packages (from tensorboard<2.16,>=2.15->tensorflow-intel==2.15.0->tensorflow) (3.3.4)\n",
      "Requirement already satisfied: werkzeug>=1.0.1 in c:\\users\\acer\\anaconda3\\lib\\site-packages (from tensorboard<2.16,>=2.15->tensorflow-intel==2.15.0->tensorflow) (2.0.3)\n",
      "Collecting google-auth-oauthlib<2,>=0.5\n",
      "  Using cached google_auth_oauthlib-1.2.0-py2.py3-none-any.whl (24 kB)\n",
      "Requirement already satisfied: requests<3,>=2.21.0 in c:\\users\\acer\\anaconda3\\lib\\site-packages (from tensorboard<2.16,>=2.15->tensorflow-intel==2.15.0->tensorflow) (2.27.1)\n",
      "Collecting grpcio<2.0,>=1.24.3\n",
      "  Using cached grpcio-1.60.0-cp39-cp39-win_amd64.whl (3.7 MB)\n",
      "Requirement already satisfied: rsa<5,>=3.1.4 in c:\\users\\acer\\anaconda3\\lib\\site-packages (from google-auth<3,>=1.6.3->tensorboard<2.16,>=2.15->tensorflow-intel==2.15.0->tensorflow) (4.7.2)\n",
      "Requirement already satisfied: cachetools<6.0,>=2.0.0 in c:\\users\\acer\\anaconda3\\lib\\site-packages (from google-auth<3,>=1.6.3->tensorboard<2.16,>=2.15->tensorflow-intel==2.15.0->tensorflow) (4.2.2)\n",
      "Requirement already satisfied: pyasn1-modules>=0.2.1 in c:\\users\\acer\\anaconda3\\lib\\site-packages (from google-auth<3,>=1.6.3->tensorboard<2.16,>=2.15->tensorflow-intel==2.15.0->tensorflow) (0.2.8)\n",
      "Requirement already satisfied: requests-oauthlib>=0.7.0 in c:\\users\\acer\\anaconda3\\lib\\site-packages (from google-auth-oauthlib<2,>=0.5->tensorboard<2.16,>=2.15->tensorflow-intel==2.15.0->tensorflow) (1.3.1)\n",
      "Requirement already satisfied: pyasn1<0.5.0,>=0.4.6 in c:\\users\\acer\\anaconda3\\lib\\site-packages (from pyasn1-modules>=0.2.1->google-auth<3,>=1.6.3->tensorboard<2.16,>=2.15->tensorflow-intel==2.15.0->tensorflow) (0.4.8)\n",
      "Requirement already satisfied: idna<4,>=2.5 in c:\\users\\acer\\anaconda3\\lib\\site-packages (from requests<3,>=2.21.0->tensorboard<2.16,>=2.15->tensorflow-intel==2.15.0->tensorflow) (3.3)\n",
      "Requirement already satisfied: urllib3<1.27,>=1.21.1 in c:\\users\\acer\\anaconda3\\lib\\site-packages (from requests<3,>=2.21.0->tensorboard<2.16,>=2.15->tensorflow-intel==2.15.0->tensorflow) (1.26.9)\n",
      "Requirement already satisfied: certifi>=2017.4.17 in c:\\users\\acer\\anaconda3\\lib\\site-packages (from requests<3,>=2.21.0->tensorboard<2.16,>=2.15->tensorflow-intel==2.15.0->tensorflow) (2023.11.17)\n",
      "Requirement already satisfied: charset-normalizer~=2.0.0 in c:\\users\\acer\\anaconda3\\lib\\site-packages (from requests<3,>=2.21.0->tensorboard<2.16,>=2.15->tensorflow-intel==2.15.0->tensorflow) (2.0.4)\n",
      "Requirement already satisfied: oauthlib>=3.0.0 in c:\\users\\acer\\anaconda3\\lib\\site-packages (from requests-oauthlib>=0.7.0->google-auth-oauthlib<2,>=0.5->tensorboard<2.16,>=2.15->tensorflow-intel==2.15.0->tensorflow) (3.2.2)\n",
      "Requirement already satisfied: pyparsing!=3.0.5,>=2.0.2 in c:\\users\\acer\\anaconda3\\lib\\site-packages (from packaging->tensorflow-intel==2.15.0->tensorflow) (3.0.4)\n",
      "Installing collected packages: grpcio, google-auth-oauthlib, absl-py, termcolor, tensorflow-io-gcs-filesystem, tensorflow-estimator, tensorboard, opt-einsum, ml-dtypes, libclang, keras, google-pasta, gast, flatbuffers, astunparse, tensorflow-intel, tensorflow\n",
      "  Attempting uninstall: grpcio\n",
      "    Found existing installation: grpcio 1.42.0\n",
      "    Uninstalling grpcio-1.42.0:\n",
      "      Successfully uninstalled grpcio-1.42.0\n",
      "Successfully installed absl-py-2.0.0 astunparse-1.6.3 flatbuffers-23.5.26 gast-0.5.4 google-auth-oauthlib-1.2.0 google-pasta-0.2.0 grpcio-1.60.0 keras-2.15.0 libclang-16.0.6 ml-dtypes-0.2.0 opt-einsum-3.3.0 tensorboard-2.15.1 tensorflow-2.15.0 tensorflow-estimator-2.15.0 tensorflow-intel-2.15.0 tensorflow-io-gcs-filesystem-0.31.0 termcolor-2.4.0\n"
     ]
    }
   ],
   "source": [
    "!pip install tensorflow"
   ]
  },
  {
   "cell_type": "code",
   "execution_count": 4,
   "id": "6a543789",
   "metadata": {},
   "outputs": [
    {
     "name": "stderr",
     "output_type": "stream",
     "text": [
      "C:\\Users\\ACER\\anaconda3\\lib\\site-packages\\scipy\\__init__.py:146: UserWarning: A NumPy version >=1.16.5 and <1.23.0 is required for this version of SciPy (detected version 1.26.2\n",
      "  warnings.warn(f\"A NumPy version >={np_minversion} and <{np_maxversion}\"\n"
     ]
    },
    {
     "name": "stdout",
     "output_type": "stream",
     "text": [
      "WARNING:tensorflow:From C:\\Users\\ACER\\anaconda3\\lib\\site-packages\\keras\\src\\losses.py:2976: The name tf.losses.sparse_softmax_cross_entropy is deprecated. Please use tf.compat.v1.losses.sparse_softmax_cross_entropy instead.\n",
      "\n"
     ]
    }
   ],
   "source": [
    "import os\n",
    "import tensorflow\n",
    "import numpy as np\n",
    "import pandas as pd\n",
    "import matplotlib.pyplot as plt\n",
    "import matplotlib.image as img\n",
    "from PIL import Image\n",
    "from tensorflow import keras"
   ]
  },
  {
   "cell_type": "code",
   "execution_count": 6,
   "id": "5233a99a",
   "metadata": {},
   "outputs": [],
   "source": [
    "x_train=[];y_train=[]\n",
    "import os\n",
    "x = os.path.join(\"D:/Dataset/feremotion/test\")\n",
    "train=os.listdir(x)\n",
    "for i in train:\n",
    "    for j in os.listdir(os.path.join(x,i)):\n",
    "        img1=Image.open(os.path.join(x,i,j))\n",
    "        img1=img1.convert(\"RGB\")\n",
    "        x_train.append(np.array(img1))\n",
    "        if i==\"angry\":\n",
    "            y_train.append(0)\n",
    "        if i==\"disgust\":\n",
    "            y_train.append(1)\n",
    "        if i==\"fear\":\n",
    "            y_train.append(2)\n",
    "        if i==\"happy\":\n",
    "            y_train.append(3)\n",
    "        if i==\"neutral\":\n",
    "            y_train.append(4)\n",
    "        if i==\"sad\":\n",
    "            y_train.append(5)\n",
    "        if i==\"surprise\":\n",
    "            y_train.append(6)"
   ]
  },
  {
   "cell_type": "code",
   "execution_count": 7,
   "id": "8e1cd548",
   "metadata": {},
   "outputs": [
    {
     "name": "stderr",
     "output_type": "stream",
     "text": [
      "IOPub data rate exceeded.\n",
      "The Jupyter server will temporarily stop sending output\n",
      "to the client in order to avoid crashing it.\n",
      "To change this limit, set the config variable\n",
      "`--ServerApp.iopub_data_rate_limit`.\n",
      "\n",
      "Current values:\n",
      "ServerApp.iopub_data_rate_limit=1000000.0 (bytes/sec)\n",
      "ServerApp.rate_limit_window=3.0 (secs)\n",
      "\n"
     ]
    }
   ],
   "source": [
    "print(x_train)\n",
    "x_train=np.array(x_train)\n",
    "y_train=np.array(y_train)"
   ]
  },
  {
   "cell_type": "code",
   "execution_count": 8,
   "id": "6b287ff0",
   "metadata": {},
   "outputs": [
    {
     "name": "stdout",
     "output_type": "stream",
     "text": [
      "(7178, 48, 48, 3)\n",
      "(7178,)\n"
     ]
    }
   ],
   "source": [
    "print(x_train.shape,y_train.shape,sep='\\n')"
   ]
  },
  {
   "cell_type": "code",
   "execution_count": 9,
   "id": "1108f988",
   "metadata": {},
   "outputs": [],
   "source": [
    "x_test=[];y_test=[]\n",
    "x = os.path.join(\"D:/Dataset/feremotion/test\")\n",
    "\n",
    "test=os.listdir(x)\n",
    "for i in test:\n",
    "    for j in os.listdir(os.path.join(x,i)):\n",
    "        img1=Image.open(os.path.join(x,i,j))\n",
    "        img1=img1.convert(\"RGB\")\n",
    "        x_test.append(np.array(img1))\n",
    "        if i==\"angry\":\n",
    "            y_test.append(0)\n",
    "        if i==\"disgust\":\n",
    "            y_test.append(1)\n",
    "        if i==\"fear\":\n",
    "            y_test.append(2)\n",
    "        if i==\"happy\":\n",
    "            y_test.append(3)\n",
    "        if i==\"neutral\":\n",
    "            y_test.append(4)\n",
    "        if i==\"sad\":\n",
    "            y_test.append(5)\n",
    "        if i==\"surprise\":\n",
    "            y_test.append(6)"
   ]
  },
  {
   "cell_type": "code",
   "execution_count": 10,
   "id": "6dc78778",
   "metadata": {},
   "outputs": [],
   "source": [
    "x_test=np.array(x_test)\n",
    "y_test=np.array(y_test)"
   ]
  },
  {
   "cell_type": "code",
   "execution_count": 11,
   "id": "f0638d96",
   "metadata": {},
   "outputs": [
    {
     "name": "stdout",
     "output_type": "stream",
     "text": [
      "(7178, 48, 48, 3)\n",
      "(7178,)\n"
     ]
    }
   ],
   "source": [
    "print(x_test.shape,y_test.shape,sep='\\n')"
   ]
  },
  {
   "cell_type": "code",
   "execution_count": 12,
   "id": "23d67768",
   "metadata": {},
   "outputs": [],
   "source": [
    "shuffle_indexes = np.arange(x_train.shape[0])\n",
    "np.random.shuffle(shuffle_indexes)\n",
    "x_train = x_train[shuffle_indexes]\n",
    "y_train = y_train[shuffle_indexes]"
   ]
  },
  {
   "cell_type": "code",
   "execution_count": 13,
   "id": "a75fd9da",
   "metadata": {},
   "outputs": [
    {
     "data": {
      "image/png": "[encoded data removed]",
      "text/plain": [
       "<Figure size 432x288 with 16 Axes>"
      ]
     },
     "metadata": {
      "needs_background": "light"
     },
     "output_type": "display_data"
    }
   ],
   "source": [
    "for i in range(16):\n",
    "    plt.subplot(4,4,i+1)\n",
    "    plt.imshow(x_train[i])"
   ]
  },
  {
   "cell_type": "code",
   "execution_count": 14,
   "id": "082a7e1c",
   "metadata": {},
   "outputs": [],
   "source": [
    "import tensorflow as tf\n",
    "import keras\n",
    "from keras.layers import Dense,Conv2D,Flatten,MaxPooling2D,BatchNormalization,Dropout\n",
    "from keras.models import Sequential"
   ]
  },
  {
   "cell_type": "code",
   "execution_count": 15,
   "id": "879ba481",
   "metadata": {},
   "outputs": [
    {
     "name": "stdout",
     "output_type": "stream",
     "text": [
      "WARNING:tensorflow:From C:\\Users\\ACER\\anaconda3\\lib\\site-packages\\keras\\src\\backend.py:873: The name tf.get_default_graph is deprecated. Please use tf.compat.v1.get_default_graph instead.\n",
      "\n",
      "WARNING:tensorflow:From C:\\Users\\ACER\\anaconda3\\lib\\site-packages\\keras\\src\\layers\\normalization\\batch_normalization.py:979: The name tf.nn.fused_batch_norm is deprecated. Please use tf.compat.v1.nn.fused_batch_norm instead.\n",
      "\n"
     ]
    }
   ],
   "source": [
    "model=Sequential()\n",
    "\n",
    "model.add(Conv2D(16,(3,3),padding=\"same\",input_shape=(48,48,3),activation='relu'))\n",
    "model.add(Conv2D(16,(3,3),padding='same',activation='relu'))\n",
    "model.add(Conv2D(16,(3,3),padding='same',activation='relu'))\n",
    "model.add(BatchNormalization())\n",
    "model.add(Dropout(0.3))\n",
    "model.add(MaxPooling2D())\n",
    "\n",
    "model.add(Conv2D(32,(3,3),padding=\"same\",input_shape=(48,48,3),activation='relu'))\n",
    "model.add(Conv2D(32,(3,3),padding='same',activation='relu'))\n",
    "model.add(Conv2D(32,(3,3),padding='same',activation='relu'))\n",
    "model.add(BatchNormalization())\n",
    "model.add(Dropout(0.3))\n",
    "model.add(MaxPooling2D())\n",
    "\n",
    "model.add(Conv2D(64,(3,3),padding=\"same\",input_shape=(48,48,3),activation='relu'))\n",
    "model.add(Conv2D(64,(3,3),padding='same',activation='relu'))\n",
    "model.add(Conv2D(64,(3,3),padding='same',activation='relu'))\n",
    "model.add(BatchNormalization())\n",
    "model.add(Dropout(0.3))\n",
    "model.add(MaxPooling2D())\n",
    "\n",
    "model.add(Flatten())\n",
    "\n",
    "model.add(Dense(7,activation='softmax'))"
   ]
  },
  {
   "cell_type": "code",
   "execution_count": 16,
   "id": "5af65208",
   "metadata": {},
   "outputs": [
    {
     "name": "stdout",
     "output_type": "stream",
     "text": [
      "Model: \"sequential\"\n",
      "_________________________________________________________________\n",
      " Layer (type)                Output Shape              Param #   \n",
      "=================================================================\n",
      " conv2d (Conv2D)             (None, 48, 48, 16)        448       \n",
      "                                                                 \n",
      " conv2d_1 (Conv2D)           (None, 48, 48, 16)        2320      \n",
      "                                                                 \n",
      " conv2d_2 (Conv2D)           (None, 48, 48, 16)        2320      \n",
      "                                                                 \n",
      " batch_normalization (Batch  (None, 48, 48, 16)        64        \n",
      " Normalization)                                                  \n",
      "                                                                 \n",
      " dropout (Dropout)           (None, 48, 48, 16)        0         \n",
      "                                                                 \n",
      " max_pooling2d (MaxPooling2  (None, 24, 24, 16)        0         \n",
      " D)                                                              \n",
      "                                                                 \n",
      " conv2d_3 (Conv2D)           (None, 24, 24, 32)        4640      \n",
      "                                                                 \n",
      " conv2d_4 (Conv2D)           (None, 24, 24, 32)        9248      \n",
      "                                                                 \n",
      " conv2d_5 (Conv2D)           (None, 24, 24, 32)        9248      \n",
      "                                                                 \n",
      " batch_normalization_1 (Bat  (None, 24, 24, 32)        128       \n",
      " chNormalization)                                                \n",
      "                                                                 \n",
      " dropout_1 (Dropout)         (None, 24, 24, 32)        0         \n",
      "                                                                 \n",
      " max_pooling2d_1 (MaxPoolin  (None, 12, 12, 32)        0         \n",
      " g2D)                                                            \n",
      "                                                                 \n",
      " conv2d_6 (Conv2D)           (None, 12, 12, 64)        18496     \n",
      "                                                                 \n",
      " conv2d_7 (Conv2D)           (None, 12, 12, 64)        36928     \n",
      "                                                                 \n",
      " conv2d_8 (Conv2D)           (None, 12, 12, 64)        36928     \n",
      "                                                                 \n",
      " batch_normalization_2 (Bat  (None, 12, 12, 64)        256       \n",
      " chNormalization)                                                \n",
      "                                                                 \n",
      " dropout_2 (Dropout)         (None, 12, 12, 64)        0         \n",
      "                                                                 \n",
      " max_pooling2d_2 (MaxPoolin  (None, 6, 6, 64)          0         \n",
      " g2D)                                                            \n",
      "                                                                 \n",
      " flatten (Flatten)           (None, 2304)              0         \n",
      "                                                                 \n",
      " dense (Dense)               (None, 7)                 16135     \n",
      "                                                                 \n",
      "=================================================================\n",
      "Total params: 137159 (535.78 KB)\n",
      "Trainable params: 136935 (534.90 KB)\n",
      "Non-trainable params: 224 (896.00 Byte)\n",
      "_________________________________________________________________\n"
     ]
    }
   ],
   "source": [
    "model.summary()"
   ]
  },
  {
   "cell_type": "code",
   "execution_count": 17,
   "id": "3c4cb279",
   "metadata": {},
   "outputs": [],
   "source": [
    "opt=keras.optimizers.Adam(learning_rate=0.005)\n",
    "model.compile(optimizer=opt,loss='sparse_categorical_crossentropy',metrics='accuracy')"
   ]
  },
  {
   "cell_type": "code",
   "execution_count": 18,
   "id": "82d2f769",
   "metadata": {},
   "outputs": [
    {
     "name": "stdout",
     "output_type": "stream",
     "text": [
      "Epoch 1/100\n",
      "WARNING:tensorflow:From C:\\Users\\ACER\\anaconda3\\lib\\site-packages\\keras\\src\\utils\\tf_utils.py:492: The name tf.ragged.RaggedTensorValue is deprecated. Please use tf.compat.v1.ragged.RaggedTensorValue instead.\n",
      "\n",
      "WARNING:tensorflow:From C:\\Users\\ACER\\anaconda3\\lib\\site-packages\\keras\\src\\engine\\base_layer_utils.py:384: The name tf.executing_eagerly_outside_functions is deprecated. Please use tf.compat.v1.executing_eagerly_outside_functions instead.\n",
      "\n",
      "90/90 [==============================] - ETA: 0s - loss: 3.6130 - accuracy: 0.2078\n",
      "Epoch 1: val_loss improved from -inf to 1.90088, saving model to model.h5\n",
      "90/90 [==============================] - 14s 124ms/step - loss: 3.6130 - accuracy: 0.2078 - val_loss: 1.9009 - val_accuracy: 0.2632\n",
      "Epoch 2/100\n"
     ]
    },
    {
     "name": "stderr",
     "output_type": "stream",
     "text": [
      "C:\\Users\\ACER\\anaconda3\\lib\\site-packages\\keras\\src\\engine\\training.py:3103: UserWarning: You are saving your model as an HDF5 file via `model.save()`. This file format is considered legacy. We recommend using instead the native Keras format, e.g. `model.save('my_model.keras')`.\n",
      "  saving_api.save_model(\n"
     ]
    },
    {
     "name": "stdout",
     "output_type": "stream",
     "text": [
      "90/90 [==============================] - ETA: 0s - loss: 3.1112 - accuracy: 0.2092\n",
      "Epoch 2: val_loss improved from 1.90088 to 3.59462, saving model to model.h5\n",
      "90/90 [==============================] - 11s 120ms/step - loss: 3.1112 - accuracy: 0.2092 - val_loss: 3.5946 - val_accuracy: 0.1504\n",
      "Epoch 3/100\n",
      "90/90 [==============================] - ETA: 0s - loss: 2.0077 - accuracy: 0.2217\n",
      "Epoch 3: val_loss improved from 3.59462 to 4.81638, saving model to model.h5\n",
      "90/90 [==============================] - 13s 142ms/step - loss: 2.0077 - accuracy: 0.2217 - val_loss: 4.8164 - val_accuracy: 0.1337\n",
      "Epoch 4/100\n",
      "90/90 [==============================] - ETA: 0s - loss: 1.8272 - accuracy: 0.2604\n",
      "Epoch 4: val_loss did not improve from 4.81638\n",
      "90/90 [==============================] - 13s 150ms/step - loss: 1.8272 - accuracy: 0.2604 - val_loss: 2.1824 - val_accuracy: 0.2535\n",
      "Epoch 5/100\n",
      "90/90 [==============================] - ETA: 0s - loss: 1.7744 - accuracy: 0.2941\n",
      "Epoch 5: val_loss did not improve from 4.81638\n",
      "90/90 [==============================] - 13s 146ms/step - loss: 1.7744 - accuracy: 0.2941 - val_loss: 3.1509 - val_accuracy: 0.1964\n",
      "Epoch 6/100\n",
      "90/90 [==============================] - ETA: 0s - loss: 1.7429 - accuracy: 0.3069\n",
      "Epoch 6: val_loss did not improve from 4.81638\n",
      "90/90 [==============================] - 13s 150ms/step - loss: 1.7429 - accuracy: 0.3069 - val_loss: 2.4971 - val_accuracy: 0.2389\n",
      "Epoch 7/100\n",
      "90/90 [==============================] - ETA: 0s - loss: 1.6965 - accuracy: 0.3206\n",
      "Epoch 7: val_loss did not improve from 4.81638\n",
      "90/90 [==============================] - 14s 161ms/step - loss: 1.6965 - accuracy: 0.3206 - val_loss: 2.6097 - val_accuracy: 0.2242\n",
      "Epoch 8/100\n",
      "90/90 [==============================] - ETA: 0s - loss: 1.6555 - accuracy: 0.3563\n",
      "Epoch 8: val_loss did not improve from 4.81638\n",
      "90/90 [==============================] - 14s 155ms/step - loss: 1.6555 - accuracy: 0.3563 - val_loss: 2.0324 - val_accuracy: 0.2813\n",
      "Epoch 9/100\n",
      "90/90 [==============================] - ETA: 0s - loss: 1.6277 - accuracy: 0.3697\n",
      "Epoch 9: val_loss did not improve from 4.81638\n",
      "90/90 [==============================] - 14s 155ms/step - loss: 1.6277 - accuracy: 0.3697 - val_loss: 1.9164 - val_accuracy: 0.2848\n",
      "Epoch 10/100\n",
      "90/90 [==============================] - ETA: 0s - loss: 1.5944 - accuracy: 0.3741\n",
      "Epoch 10: val_loss did not improve from 4.81638\n",
      "90/90 [==============================] - 15s 168ms/step - loss: 1.5944 - accuracy: 0.3741 - val_loss: 1.8742 - val_accuracy: 0.2723\n",
      "Epoch 11/100\n",
      "90/90 [==============================] - ETA: 0s - loss: 1.5706 - accuracy: 0.3856\n",
      "Epoch 11: val_loss did not improve from 4.81638\n",
      "90/90 [==============================] - 14s 159ms/step - loss: 1.5706 - accuracy: 0.3856 - val_loss: 1.9553 - val_accuracy: 0.3162\n",
      "Epoch 12/100\n",
      "90/90 [==============================] - ETA: 0s - loss: 1.5441 - accuracy: 0.4037\n",
      "Epoch 12: val_loss did not improve from 4.81638\n",
      "90/90 [==============================] - 13s 146ms/step - loss: 1.5441 - accuracy: 0.4037 - val_loss: 1.6899 - val_accuracy: 0.3760\n",
      "Epoch 13/100\n",
      "90/90 [==============================] - ETA: 0s - loss: 1.5510 - accuracy: 0.4025\n",
      "Epoch 13: val_loss did not improve from 4.81638\n",
      "90/90 [==============================] - 13s 143ms/step - loss: 1.5510 - accuracy: 0.4025 - val_loss: 1.9427 - val_accuracy: 0.3050\n",
      "Epoch 14/100\n",
      "90/90 [==============================] - ETA: 0s - loss: 1.5095 - accuracy: 0.4204\n",
      "Epoch 14: val_loss did not improve from 4.81638\n",
      "90/90 [==============================] - 14s 152ms/step - loss: 1.5095 - accuracy: 0.4204 - val_loss: 2.1968 - val_accuracy: 0.2702\n",
      "Epoch 15/100\n",
      "90/90 [==============================] - ETA: 0s - loss: 1.4783 - accuracy: 0.4269\n",
      "Epoch 15: val_loss did not improve from 4.81638\n",
      "90/90 [==============================] - 14s 152ms/step - loss: 1.4783 - accuracy: 0.4269 - val_loss: 1.6400 - val_accuracy: 0.3928\n",
      "Epoch 16/100\n",
      "90/90 [==============================] - ETA: 0s - loss: 1.4645 - accuracy: 0.4293\n",
      "Epoch 16: val_loss did not improve from 4.81638\n",
      "90/90 [==============================] - 14s 156ms/step - loss: 1.4645 - accuracy: 0.4293 - val_loss: 1.9104 - val_accuracy: 0.3336\n",
      "Epoch 17/100\n",
      "90/90 [==============================] - ETA: 0s - loss: 1.4314 - accuracy: 0.4491\n",
      "Epoch 17: val_loss did not improve from 4.81638\n",
      "90/90 [==============================] - 14s 156ms/step - loss: 1.4314 - accuracy: 0.4491 - val_loss: 1.6025 - val_accuracy: 0.4039\n",
      "Epoch 18/100\n",
      "90/90 [==============================] - ETA: 0s - loss: 1.4285 - accuracy: 0.4579\n",
      "Epoch 18: val_loss did not improve from 4.81638\n",
      "90/90 [==============================] - 13s 150ms/step - loss: 1.4285 - accuracy: 0.4579 - val_loss: 1.5821 - val_accuracy: 0.3997\n",
      "Epoch 19/100\n",
      "90/90 [==============================] - ETA: 0s - loss: 1.3980 - accuracy: 0.4650\n",
      "Epoch 19: val_loss did not improve from 4.81638\n",
      "90/90 [==============================] - 14s 161ms/step - loss: 1.3980 - accuracy: 0.4650 - val_loss: 1.6625 - val_accuracy: 0.3802\n",
      "Epoch 20/100\n",
      "90/90 [==============================] - ETA: 0s - loss: 1.3821 - accuracy: 0.4695\n",
      "Epoch 20: val_loss did not improve from 4.81638\n",
      "90/90 [==============================] - 16s 174ms/step - loss: 1.3821 - accuracy: 0.4695 - val_loss: 1.6499 - val_accuracy: 0.4143\n",
      "Epoch 21/100\n",
      "90/90 [==============================] - ETA: 0s - loss: 1.3509 - accuracy: 0.4808\n",
      "Epoch 21: val_loss did not improve from 4.81638\n",
      "90/90 [==============================] - 15s 164ms/step - loss: 1.3509 - accuracy: 0.4808 - val_loss: 1.5461 - val_accuracy: 0.4283\n",
      "Epoch 22/100\n",
      "90/90 [==============================] - ETA: 0s - loss: 1.3351 - accuracy: 0.4793\n",
      "Epoch 22: val_loss did not improve from 4.81638\n",
      "90/90 [==============================] - 15s 163ms/step - loss: 1.3351 - accuracy: 0.4793 - val_loss: 1.5651 - val_accuracy: 0.3921\n",
      "Epoch 23/100\n",
      "90/90 [==============================] - ETA: 0s - loss: 1.3054 - accuracy: 0.4984\n",
      "Epoch 23: val_loss did not improve from 4.81638\n",
      "90/90 [==============================] - 15s 167ms/step - loss: 1.3054 - accuracy: 0.4984 - val_loss: 1.7435 - val_accuracy: 0.3649\n",
      "Epoch 24/100\n",
      "90/90 [==============================] - ETA: 0s - loss: 1.2772 - accuracy: 0.5099\n",
      "Epoch 24: val_loss did not improve from 4.81638\n",
      "90/90 [==============================] - 16s 180ms/step - loss: 1.2772 - accuracy: 0.5099 - val_loss: 1.7958 - val_accuracy: 0.3670\n",
      "Epoch 25/100\n",
      "90/90 [==============================] - ETA: 0s - loss: 1.2789 - accuracy: 0.5115\n",
      "Epoch 25: val_loss did not improve from 4.81638\n",
      "90/90 [==============================] - 16s 178ms/step - loss: 1.2789 - accuracy: 0.5115 - val_loss: 1.6536 - val_accuracy: 0.4136\n",
      "Epoch 26/100\n",
      "90/90 [==============================] - ETA: 0s - loss: 1.2566 - accuracy: 0.5261\n",
      "Epoch 26: val_loss did not improve from 4.81638\n",
      "90/90 [==============================] - 12s 137ms/step - loss: 1.2566 - accuracy: 0.5261 - val_loss: 1.6668 - val_accuracy: 0.3983\n",
      "Epoch 27/100\n",
      "90/90 [==============================] - ETA: 0s - loss: 1.2133 - accuracy: 0.5423\n",
      "Epoch 27: val_loss did not improve from 4.81638\n",
      "90/90 [==============================] - 15s 164ms/step - loss: 1.2133 - accuracy: 0.5423 - val_loss: 1.6060 - val_accuracy: 0.4401\n",
      "Epoch 28/100\n",
      "90/90 [==============================] - ETA: 0s - loss: 1.2510 - accuracy: 0.5242\n",
      "Epoch 28: val_loss did not improve from 4.81638\n",
      "90/90 [==============================] - 14s 162ms/step - loss: 1.2510 - accuracy: 0.5242 - val_loss: 1.5812 - val_accuracy: 0.4325\n",
      "Epoch 29/100\n",
      "90/90 [==============================] - ETA: 0s - loss: 1.1824 - accuracy: 0.5535\n",
      "Epoch 29: val_loss did not improve from 4.81638\n",
      "90/90 [==============================] - 18s 200ms/step - loss: 1.1824 - accuracy: 0.5535 - val_loss: 1.5719 - val_accuracy: 0.4422\n",
      "Epoch 30/100\n",
      "90/90 [==============================] - ETA: 0s - loss: 1.1438 - accuracy: 0.5618\n",
      "Epoch 30: val_loss did not improve from 4.81638\n",
      "90/90 [==============================] - 20s 227ms/step - loss: 1.1438 - accuracy: 0.5618 - val_loss: 1.5988 - val_accuracy: 0.4248\n",
      "Epoch 31/100\n",
      "90/90 [==============================] - ETA: 0s - loss: 1.1196 - accuracy: 0.5796\n",
      "Epoch 31: val_loss did not improve from 4.81638\n",
      "90/90 [==============================] - 24s 265ms/step - loss: 1.1196 - accuracy: 0.5796 - val_loss: 1.5995 - val_accuracy: 0.4116\n",
      "Epoch 32/100\n",
      "90/90 [==============================] - ETA: 0s - loss: 1.1122 - accuracy: 0.5850\n",
      "Epoch 32: val_loss did not improve from 4.81638\n",
      "90/90 [==============================] - 23s 259ms/step - loss: 1.1122 - accuracy: 0.5850 - val_loss: 1.6682 - val_accuracy: 0.4011\n",
      "Epoch 33/100\n",
      "90/90 [==============================] - ETA: 0s - loss: 1.0835 - accuracy: 0.5871\n",
      "Epoch 33: val_loss did not improve from 4.81638\n",
      "90/90 [==============================] - 23s 260ms/step - loss: 1.0835 - accuracy: 0.5871 - val_loss: 1.6564 - val_accuracy: 0.4074\n",
      "Epoch 34/100\n",
      "90/90 [==============================] - ETA: 0s - loss: 1.0427 - accuracy: 0.6071\n",
      "Epoch 34: val_loss did not improve from 4.81638\n",
      "90/90 [==============================] - 22s 250ms/step - loss: 1.0427 - accuracy: 0.6071 - val_loss: 1.6129 - val_accuracy: 0.4394\n",
      "Epoch 35/100\n",
      "90/90 [==============================] - ETA: 0s - loss: 1.0059 - accuracy: 0.6268\n",
      "Epoch 35: val_loss did not improve from 4.81638\n",
      "90/90 [==============================] - 24s 261ms/step - loss: 1.0059 - accuracy: 0.6268 - val_loss: 1.7096 - val_accuracy: 0.4255\n",
      "Epoch 36/100\n",
      "90/90 [==============================] - ETA: 0s - loss: 0.9755 - accuracy: 0.6280\n",
      "Epoch 36: val_loss did not improve from 4.81638\n",
      "90/90 [==============================] - 21s 236ms/step - loss: 0.9755 - accuracy: 0.6280 - val_loss: 1.6935 - val_accuracy: 0.4248\n",
      "Epoch 37/100\n",
      "90/90 [==============================] - ETA: 0s - loss: 0.9636 - accuracy: 0.6350\n",
      "Epoch 37: val_loss did not improve from 4.81638\n",
      "90/90 [==============================] - 22s 249ms/step - loss: 0.9636 - accuracy: 0.6350 - val_loss: 1.6072 - val_accuracy: 0.4338\n",
      "Epoch 38/100\n",
      "90/90 [==============================] - ETA: 0s - loss: 0.9310 - accuracy: 0.6506\n",
      "Epoch 38: val_loss did not improve from 4.81638\n",
      "90/90 [==============================] - 22s 241ms/step - loss: 0.9310 - accuracy: 0.6506 - val_loss: 1.7760 - val_accuracy: 0.4269\n",
      "Epoch 39/100\n",
      "90/90 [==============================] - ETA: 0s - loss: 0.9189 - accuracy: 0.6581\n",
      "Epoch 39: val_loss did not improve from 4.81638\n",
      "90/90 [==============================] - 22s 244ms/step - loss: 0.9189 - accuracy: 0.6581 - val_loss: 1.7010 - val_accuracy: 0.4290\n",
      "Epoch 40/100\n",
      "90/90 [==============================] - ETA: 0s - loss: 0.8847 - accuracy: 0.6632\n",
      "Epoch 40: val_loss did not improve from 4.81638\n",
      "90/90 [==============================] - 22s 242ms/step - loss: 0.8847 - accuracy: 0.6632 - val_loss: 1.6931 - val_accuracy: 0.4227\n",
      "Epoch 41/100\n",
      "90/90 [==============================] - ETA: 0s - loss: 0.8320 - accuracy: 0.6952\n",
      "Epoch 41: val_loss did not improve from 4.81638\n",
      "90/90 [==============================] - 23s 258ms/step - loss: 0.8320 - accuracy: 0.6952 - val_loss: 1.6626 - val_accuracy: 0.4408\n",
      "Epoch 42/100\n",
      "90/90 [==============================] - ETA: 0s - loss: 0.8328 - accuracy: 0.6898\n",
      "Epoch 42: val_loss did not improve from 4.81638\n",
      "90/90 [==============================] - 22s 244ms/step - loss: 0.8328 - accuracy: 0.6898 - val_loss: 1.7326 - val_accuracy: 0.4109\n",
      "Epoch 43/100\n",
      "90/90 [==============================] - ETA: 0s - loss: 0.7871 - accuracy: 0.7207\n",
      "Epoch 43: val_loss did not improve from 4.81638\n",
      "90/90 [==============================] - 23s 251ms/step - loss: 0.7871 - accuracy: 0.7207 - val_loss: 1.6519 - val_accuracy: 0.4269\n",
      "Epoch 44/100\n",
      "90/90 [==============================] - ETA: 0s - loss: 0.7739 - accuracy: 0.7139\n",
      "Epoch 44: val_loss did not improve from 4.81638\n",
      "90/90 [==============================] - 20s 222ms/step - loss: 0.7739 - accuracy: 0.7139 - val_loss: 1.7292 - val_accuracy: 0.4345\n",
      "Epoch 45/100\n",
      "90/90 [==============================] - ETA: 0s - loss: 0.7245 - accuracy: 0.7327\n",
      "Epoch 45: val_loss did not improve from 4.81638\n",
      "90/90 [==============================] - 12s 135ms/step - loss: 0.7245 - accuracy: 0.7327 - val_loss: 1.7497 - val_accuracy: 0.4067\n",
      "Epoch 46/100\n",
      "90/90 [==============================] - ETA: 0s - loss: 0.7027 - accuracy: 0.7375\n",
      "Epoch 46: val_loss did not improve from 4.81638\n",
      "90/90 [==============================] - 11s 119ms/step - loss: 0.7027 - accuracy: 0.7375 - val_loss: 1.8935 - val_accuracy: 0.4227\n",
      "Epoch 47/100\n",
      "90/90 [==============================] - ETA: 0s - loss: 0.7121 - accuracy: 0.7348\n",
      "Epoch 47: val_loss did not improve from 4.81638\n",
      "90/90 [==============================] - 10s 115ms/step - loss: 0.7121 - accuracy: 0.7348 - val_loss: 1.8187 - val_accuracy: 0.4338\n",
      "Epoch 48/100\n",
      "90/90 [==============================] - ETA: 0s - loss: 0.6740 - accuracy: 0.7525\n",
      "Epoch 48: val_loss did not improve from 4.81638\n",
      "90/90 [==============================] - 10s 111ms/step - loss: 0.6740 - accuracy: 0.7525 - val_loss: 1.8144 - val_accuracy: 0.4352\n",
      "Epoch 49/100\n",
      "90/90 [==============================] - ETA: 0s - loss: 0.6564 - accuracy: 0.7536\n",
      "Epoch 49: val_loss did not improve from 4.81638\n",
      "90/90 [==============================] - 12s 129ms/step - loss: 0.6564 - accuracy: 0.7536 - val_loss: 2.0582 - val_accuracy: 0.3677\n",
      "Epoch 49: early stopping\n"
     ]
    }
   ],
   "source": [
    "es=keras.callbacks.EarlyStopping(monitor='val_accuracy',mode=\"max\",verbose=1,patience=20)\n",
    "mcp=keras.callbacks.ModelCheckpoint('model.h5',moniter='val_accuracy',verbose=1,mode='max',save_best_only=True)\n",
    "hist=model.fit(x_train,y_train,batch_size=64,epochs=100,validation_split=0.2,callbacks=[es,mcp])"
   ]
  },
  {
   "cell_type": "code",
   "execution_count": 19,
   "id": "27881b8d",
   "metadata": {},
   "outputs": [
    {
     "name": "stdout",
     "output_type": "stream",
     "text": [
      "225/225 [==============================] - 4s 18ms/step - loss: 1.0007 - accuracy: 0.6556\n",
      "1.0006890296936035\n",
      "0.6556143760681152\n"
     ]
    }
   ],
   "source": [
    "test_loss,test_acc=model.evaluate(x_test,y_test)\n",
    "print(test_loss)\n",
    "print(test_acc)"
   ]
  },
  {
   "cell_type": "code",
   "execution_count": 20,
   "id": "de14e7a6",
   "metadata": {},
   "outputs": [
    {
     "data": {
      "text/plain": [
       "<matplotlib.legend.Legend at 0x1f57fccb910>"
      ]
     },
     "execution_count": 20,
     "metadata": {},
     "output_type": "execute_result"
    },
    {
     "data": {
      "image/png": "[encoded data removed]",
      "text/plain": [
       "<Figure size 432x288 with 1 Axes>"
      ]
     },
     "metadata": {
      "needs_background": "light"
     },
     "output_type": "display_data"
    }
   ],
   "source": [
    "plt.plot(hist.history['val_loss'],label='validation')\n",
    "plt.plot(hist.history['loss'],label='train')\n",
    "plt.xlabel(\"Epochs\")\n",
    "plt.ylabel(\"Loss\")\n",
    "plt.legend()"
   ]
  },
  {
   "cell_type": "code",
   "execution_count": 21,
   "id": "6d4dc2b9",
   "metadata": {},
   "outputs": [
    {
     "data": {
      "text/plain": [
       "<matplotlib.legend.Legend at 0x1f57fd422b0>"
      ]
     },
     "execution_count": 21,
     "metadata": {},
     "output_type": "execute_result"
    },
    {
     "data": {
      "image/png": "[encoded data removed]",
      "text/plain": [
       "<Figure size 432x288 with 1 Axes>"
      ]
     },
     "metadata": {
      "needs_background": "light"
     },
     "output_type": "display_data"
    }
   ],
   "source": [
    "plt.plot(hist.history['val_accuracy'],label='validation')\n",
    "plt.plot(hist.history['accuracy'],label='train')\n",
    "plt.xlabel(\"Epochs\")\n",
    "plt.ylabel(\"Accuracy\")\n",
    "plt.legend()"
   ]
  },
  {
   "cell_type": "code",
   "execution_count": 22,
   "id": "81df62c0",
   "metadata": {},
   "outputs": [],
   "source": [
    "from keras.applications.vgg16 import VGG16,preprocess_input"
   ]
  },
  {
   "cell_type": "code",
   "execution_count": 23,
   "id": "cd9e7972",
   "metadata": {},
   "outputs": [],
   "source": [
    "x1_train=[preprocess_input(img1) for img1 in x_train]"
   ]
  },
  {
   "cell_type": "code",
   "execution_count": 24,
   "id": "e4dd3dea",
   "metadata": {},
   "outputs": [],
   "source": [
    "x1_train=np.array(x1_train)"
   ]
  },
  {
   "cell_type": "code",
   "execution_count": 25,
   "id": "d4073266",
   "metadata": {},
   "outputs": [
    {
     "data": {
      "text/plain": [
       "(7178, 48, 48, 3)"
      ]
     },
     "execution_count": 25,
     "metadata": {},
     "output_type": "execute_result"
    }
   ],
   "source": [
    "x1_train.shape"
   ]
  },
  {
   "cell_type": "code",
   "execution_count": 26,
   "id": "deae8c5c",
   "metadata": {},
   "outputs": [
    {
     "name": "stdout",
     "output_type": "stream",
     "text": [
      "Downloading data from https://storage.googleapis.com/tensorflow/keras-applications/vgg16/vgg16_weights_tf_dim_ordering_tf_kernels_notop.h5\n",
      "58889256/58889256 [==============================] - 6s 0us/step\n",
      "Model: \"vgg16\"\n",
      "_________________________________________________________________\n",
      " Layer (type)                Output Shape              Param #   \n",
      "=================================================================\n",
      " input_1 (InputLayer)        [(None, 48, 48, 3)]       0         \n",
      "                                                                 \n",
      " block1_conv1 (Conv2D)       (None, 48, 48, 64)        1792      \n",
      "                                                                 \n",
      " block1_conv2 (Conv2D)       (None, 48, 48, 64)        36928     \n",
      "                                                                 \n",
      " block1_pool (MaxPooling2D)  (None, 24, 24, 64)        0         \n",
      "                                                                 \n",
      " block2_conv1 (Conv2D)       (None, 24, 24, 128)       73856     \n",
      "                                                                 \n",
      " block2_conv2 (Conv2D)       (None, 24, 24, 128)       147584    \n",
      "                                                                 \n",
      " block2_pool (MaxPooling2D)  (None, 12, 12, 128)       0         \n",
      "                                                                 \n",
      " block3_conv1 (Conv2D)       (None, 12, 12, 256)       295168    \n",
      "                                                                 \n",
      " block3_conv2 (Conv2D)       (None, 12, 12, 256)       590080    \n",
      "                                                                 \n",
      " block3_conv3 (Conv2D)       (None, 12, 12, 256)       590080    \n",
      "                                                                 \n",
      " block3_pool (MaxPooling2D)  (None, 6, 6, 256)         0         \n",
      "                                                                 \n",
      " block4_conv1 (Conv2D)       (None, 6, 6, 512)         1180160   \n",
      "                                                                 \n",
      " block4_conv2 (Conv2D)       (None, 6, 6, 512)         2359808   \n",
      "                                                                 \n",
      " block4_conv3 (Conv2D)       (None, 6, 6, 512)         2359808   \n",
      "                                                                 \n",
      " block4_pool (MaxPooling2D)  (None, 3, 3, 512)         0         \n",
      "                                                                 \n",
      " block5_conv1 (Conv2D)       (None, 3, 3, 512)         2359808   \n",
      "                                                                 \n",
      " block5_conv2 (Conv2D)       (None, 3, 3, 512)         2359808   \n",
      "                                                                 \n",
      " block5_conv3 (Conv2D)       (None, 3, 3, 512)         2359808   \n",
      "                                                                 \n",
      " block5_pool (MaxPooling2D)  (None, 1, 1, 512)         0         \n",
      "                                                                 \n",
      "=================================================================\n",
      "Total params: 14714688 (56.13 MB)\n",
      "Trainable params: 14714688 (56.13 MB)\n",
      "Non-trainable params: 0 (0.00 Byte)\n",
      "_________________________________________________________________\n"
     ]
    }
   ],
   "source": [
    "base_model=VGG16(weights='imagenet',include_top=False,input_shape=(48,48,3))\n",
    "base_model.summary()"
   ]
  },
  {
   "cell_type": "code",
   "execution_count": 27,
   "id": "69c3ecff",
   "metadata": {},
   "outputs": [
    {
     "name": "stdout",
     "output_type": "stream",
     "text": [
      "113/113 [==============================] - 45s 393ms/step\n"
     ]
    }
   ],
   "source": [
    "feature_train=base_model.predict(x1_train,batch_size=64)"
   ]
  },
  {
   "cell_type": "code",
   "execution_count": 28,
   "id": "0f33b555",
   "metadata": {},
   "outputs": [
    {
     "data": {
      "text/plain": [
       "(7178, 1, 1, 512)"
      ]
     },
     "execution_count": 28,
     "metadata": {},
     "output_type": "execute_result"
    }
   ],
   "source": [
    "feature_train.shape"
   ]
  },
  {
   "cell_type": "code",
   "execution_count": 29,
   "id": "c8e0e0c5",
   "metadata": {},
   "outputs": [
    {
     "name": "stdout",
     "output_type": "stream",
     "text": [
      "113/113 [==============================] - 36s 316ms/step\n"
     ]
    }
   ],
   "source": [
    "feature_test=base_model.predict(x_test,batch_size=64)"
   ]
  },
  {
   "cell_type": "code",
   "execution_count": 30,
   "id": "a07780a5",
   "metadata": {},
   "outputs": [],
   "source": [
    "feature_train=feature_train.reshape(feature_train.shape[0], -1)"
   ]
  },
  {
   "cell_type": "code",
   "execution_count": 31,
   "id": "bec86d1e",
   "metadata": {},
   "outputs": [
    {
     "data": {
      "text/plain": [
       "(7178, 512)"
      ]
     },
     "execution_count": 31,
     "metadata": {},
     "output_type": "execute_result"
    }
   ],
   "source": [
    "feature_train.shape"
   ]
  },
  {
   "cell_type": "code",
   "execution_count": 32,
   "id": "3d8bd3c7",
   "metadata": {},
   "outputs": [],
   "source": [
    "feature_test=feature_test.reshape(feature_test.shape[0], -1)"
   ]
  },
  {
   "cell_type": "code",
   "execution_count": 33,
   "id": "5a10054d",
   "metadata": {},
   "outputs": [],
   "source": [
    "from sklearn.ensemble import RandomForestClassifier\n",
    "from sklearn.metrics import accuracy_score\n",
    "from sklearn.metrics import confusion_matrix\n",
    "import seaborn as sns\n",
    "from sklearn import svm"
   ]
  },
  {
   "cell_type": "code",
   "execution_count": 34,
   "id": "baa81947",
   "metadata": {},
   "outputs": [],
   "source": [
    "train_10000=feature_train[:10000]\n",
    "y_train_10000=y_train[:10000]"
   ]
  },
  {
   "cell_type": "code",
   "execution_count": 35,
   "id": "715911a5",
   "metadata": {},
   "outputs": [
    {
     "data": {
      "text/plain": [
       "(7178, 512)"
      ]
     },
     "execution_count": 35,
     "metadata": {},
     "output_type": "execute_result"
    }
   ],
   "source": [
    "train_10000.shape"
   ]
  },
  {
   "cell_type": "code",
   "execution_count": 36,
   "id": "afb0e496",
   "metadata": {},
   "outputs": [
    {
     "name": "stdout",
     "output_type": "stream",
     "text": [
      "Accuracy: 43.59%\n"
     ]
    }
   ],
   "source": [
    "clf = svm.SVC()\n",
    "\n",
    "clf.fit(train_10000 ,y_train_10000)\n",
    "\n",
    "# Make predictions on the test set\n",
    "predictions = clf.predict(feature_test)\n",
    "\n",
    "# Calculate accuracy\n",
    "accuracy = accuracy_score(y_test, predictions)\n",
    "print(f\"Accuracy: {accuracy * 100:.2f}%\")"
   ]
  },
  {
   "cell_type": "code",
   "execution_count": 37,
   "id": "8290c294",
   "metadata": {},
   "outputs": [
    {
     "name": "stdout",
     "output_type": "stream",
     "text": [
      "Accuracy: 46.53%\n"
     ]
    }
   ],
   "source": [
    "RF_model = RandomForestClassifier(n_estimators=100, random_state=42)\n",
    "\n",
    "RF_model.fit(feature_train, y_train)\n",
    "\n",
    "predictions = RF_model.predict(feature_test)\n",
    "\n",
    "accuracy = accuracy_score(y_test, predictions)\n",
    "print(f\"Accuracy: {accuracy * 100:.2f}%\")"
   ]
  },
  {
   "cell_type": "code",
   "execution_count": 38,
   "id": "9b2ada60",
   "metadata": {},
   "outputs": [
    {
     "ename": "ValueError",
     "evalue": "too many values to unpack (expected 4)",
     "output_type": "error",
     "traceback": [
      "\u001b[1;31m---------------------------------------------------------------------------\u001b[0m",
      "\u001b[1;31mValueError\u001b[0m                                Traceback (most recent call last)",
      "Input \u001b[1;32mIn [38]\u001b[0m, in \u001b[0;36m<cell line: 4>\u001b[1;34m()\u001b[0m\n\u001b[0;32m      1\u001b[0m cm \u001b[38;5;241m=\u001b[39m confusion_matrix(y_test, predictions)\n\u001b[0;32m      2\u001b[0m sns\u001b[38;5;241m.\u001b[39mheatmap(cm, annot \u001b[38;5;241m=\u001b[39m \u001b[38;5;28;01mTrue\u001b[39;00m)\n\u001b[1;32m----> 4\u001b[0m tp, fp, fn, tn \u001b[38;5;241m=\u001b[39m cm\u001b[38;5;241m.\u001b[39mravel()\n\u001b[0;32m      6\u001b[0m recall \u001b[38;5;241m=\u001b[39m tp\u001b[38;5;241m/\u001b[39m(tp\u001b[38;5;241m+\u001b[39mfn)\n\u001b[0;32m      7\u001b[0m precision \u001b[38;5;241m=\u001b[39m tp\u001b[38;5;241m/\u001b[39m(tp\u001b[38;5;241m+\u001b[39mfp)\n",
      "\u001b[1;31mValueError\u001b[0m: too many values to unpack (expected 4)"
     ]
    },
    {
     "data": {
      "image/png": "[encoded data removed]",
      "text/plain": [
       "<Figure size 432x288 with 2 Axes>"
      ]
     },
     "metadata": {
      "needs_background": "light"
     },
     "output_type": "display_data"
    }
   ],
   "source": [
    "cm = confusion_matrix(y_test, predictions)\n",
    "sns.heatmap(cm, annot = True)\n",
    "\n",
    "tp, fp, fn, tn = cm.ravel()\n",
    "\n",
    "recall = tp/(tp+fn)\n",
    "precision = tp/(tp+fp)\n",
    "\n",
    "print('Accuracy =', metrics.accuracy_score(y_test, prediction_RF))\n",
    "print(\"Recall =\", recall)\n",
    "print(\"Precision =\", precision)"
   ]
  },
  {
   "cell_type": "code",
   "execution_count": 39,
   "id": "0abfa2ef",
   "metadata": {},
   "outputs": [],
   "source": [
    "from keras.applications.vgg16 import VGG16,preprocess_input\n",
    "from keras.models import Model\n",
    "from keras.layers import Dense,Conv2D,MaxPooling2D,Dropout,BatchNormalization"
   ]
  },
  {
   "cell_type": "code",
   "execution_count": 40,
   "id": "b7bf5c2b",
   "metadata": {},
   "outputs": [
    {
     "name": "stdout",
     "output_type": "stream",
     "text": [
      "Model: \"vgg16\"\n",
      "_________________________________________________________________\n",
      " Layer (type)                Output Shape              Param #   \n",
      "=================================================================\n",
      " input_2 (InputLayer)        [(None, 48, 48, 3)]       0         \n",
      "                                                                 \n",
      " block1_conv1 (Conv2D)       (None, 48, 48, 64)        1792      \n",
      "                                                                 \n",
      " block1_conv2 (Conv2D)       (None, 48, 48, 64)        36928     \n",
      "                                                                 \n",
      " block1_pool (MaxPooling2D)  (None, 24, 24, 64)        0         \n",
      "                                                                 \n",
      " block2_conv1 (Conv2D)       (None, 24, 24, 128)       73856     \n",
      "                                                                 \n",
      " block2_conv2 (Conv2D)       (None, 24, 24, 128)       147584    \n",
      "                                                                 \n",
      " block2_pool (MaxPooling2D)  (None, 12, 12, 128)       0         \n",
      "                                                                 \n",
      " block3_conv1 (Conv2D)       (None, 12, 12, 256)       295168    \n",
      "                                                                 \n",
      " block3_conv2 (Conv2D)       (None, 12, 12, 256)       590080    \n",
      "                                                                 \n",
      " block3_conv3 (Conv2D)       (None, 12, 12, 256)       590080    \n",
      "                                                                 \n",
      " block3_pool (MaxPooling2D)  (None, 6, 6, 256)         0         \n",
      "                                                                 \n",
      " block4_conv1 (Conv2D)       (None, 6, 6, 512)         1180160   \n",
      "                                                                 \n",
      " block4_conv2 (Conv2D)       (None, 6, 6, 512)         2359808   \n",
      "                                                                 \n",
      " block4_conv3 (Conv2D)       (None, 6, 6, 512)         2359808   \n",
      "                                                                 \n",
      " block4_pool (MaxPooling2D)  (None, 3, 3, 512)         0         \n",
      "                                                                 \n",
      " block5_conv1 (Conv2D)       (None, 3, 3, 512)         2359808   \n",
      "                                                                 \n",
      " block5_conv2 (Conv2D)       (None, 3, 3, 512)         2359808   \n",
      "                                                                 \n",
      " block5_conv3 (Conv2D)       (None, 3, 3, 512)         2359808   \n",
      "                                                                 \n",
      " block5_pool (MaxPooling2D)  (None, 1, 1, 512)         0         \n",
      "                                                                 \n",
      "=================================================================\n",
      "Total params: 14714688 (56.13 MB)\n",
      "Trainable params: 14714688 (56.13 MB)\n",
      "Non-trainable params: 0 (0.00 Byte)\n",
      "_________________________________________________________________\n"
     ]
    }
   ],
   "source": [
    "base_model=VGG16(weights='imagenet',include_top=False,input_shape=(48,48,3))\n",
    "base_model.summary()"
   ]
  },
  {
   "cell_type": "code",
   "execution_count": 41,
   "id": "6be341d1",
   "metadata": {},
   "outputs": [],
   "source": [
    "for layer in base_model.layers:\n",
    "    layer.trainable=False"
   ]
  },
  {
   "cell_type": "code",
   "execution_count": 42,
   "id": "21f1ff81",
   "metadata": {},
   "outputs": [
    {
     "name": "stdout",
     "output_type": "stream",
     "text": [
      "Model: \"model\"\n",
      "_________________________________________________________________\n",
      " Layer (type)                Output Shape              Param #   \n",
      "=================================================================\n",
      " input_2 (InputLayer)        [(None, 48, 48, 3)]       0         \n",
      "                                                                 \n",
      " block1_conv1 (Conv2D)       (None, 48, 48, 64)        1792      \n",
      "                                                                 \n",
      " block1_conv2 (Conv2D)       (None, 48, 48, 64)        36928     \n",
      "                                                                 \n",
      " block1_pool (MaxPooling2D)  (None, 24, 24, 64)        0         \n",
      "                                                                 \n",
      " block2_conv1 (Conv2D)       (None, 24, 24, 128)       73856     \n",
      "                                                                 \n",
      " block2_conv2 (Conv2D)       (None, 24, 24, 128)       147584    \n",
      "                                                                 \n",
      " block2_pool (MaxPooling2D)  (None, 12, 12, 128)       0         \n",
      "                                                                 \n",
      " block3_conv1 (Conv2D)       (None, 12, 12, 256)       295168    \n",
      "                                                                 \n",
      " block3_conv2 (Conv2D)       (None, 12, 12, 256)       590080    \n",
      "                                                                 \n",
      " block3_conv3 (Conv2D)       (None, 12, 12, 256)       590080    \n",
      "                                                                 \n",
      " block3_pool (MaxPooling2D)  (None, 6, 6, 256)         0         \n",
      "                                                                 \n",
      " block4_conv1 (Conv2D)       (None, 6, 6, 512)         1180160   \n",
      "                                                                 \n",
      " block4_conv2 (Conv2D)       (None, 6, 6, 512)         2359808   \n",
      "                                                                 \n",
      " block4_conv3 (Conv2D)       (None, 6, 6, 512)         2359808   \n",
      "                                                                 \n",
      " block4_pool (MaxPooling2D)  (None, 3, 3, 512)         0         \n",
      "                                                                 \n",
      " block5_conv1 (Conv2D)       (None, 3, 3, 512)         2359808   \n",
      "                                                                 \n",
      " block5_conv2 (Conv2D)       (None, 3, 3, 512)         2359808   \n",
      "                                                                 \n",
      " block5_conv3 (Conv2D)       (None, 3, 3, 512)         2359808   \n",
      "                                                                 \n",
      " block5_pool (MaxPooling2D)  (None, 1, 1, 512)         0         \n",
      "                                                                 \n",
      " flatten_1 (Flatten)         (None, 512)               0         \n",
      "                                                                 \n",
      " dense_1 (Dense)             (None, 7)                 3591      \n",
      "                                                                 \n",
      "=================================================================\n",
      "Total params: 14718279 (56.15 MB)\n",
      "Trainable params: 3591 (14.03 KB)\n",
      "Non-trainable params: 14714688 (56.13 MB)\n",
      "_________________________________________________________________\n"
     ]
    }
   ],
   "source": [
    "x=base_model.layers[-1].output\n",
    "x=Flatten()(x)\n",
    "x=Dense(7,activation='softmax')(x)\n",
    "\n",
    "model=Model(base_model.input,x)\n",
    "\n",
    "model.summary()"
   ]
  },
  {
   "cell_type": "code",
   "execution_count": 43,
   "id": "88abe171",
   "metadata": {},
   "outputs": [],
   "source": [
    "opt=keras.optimizers.Adam()\n",
    "model.compile(optimizer=opt,loss='sparse_categorical_crossentropy',metrics=['accuracy'])"
   ]
  },
  {
   "cell_type": "code",
   "execution_count": 44,
   "id": "b0f7f2a8",
   "metadata": {},
   "outputs": [
    {
     "name": "stdout",
     "output_type": "stream",
     "text": [
      "Epoch 1/100\n",
      "90/90 [==============================] - 70s 775ms/step - loss: 12.9614 - accuracy: 0.2139 - val_loss: 8.3759 - val_accuracy: 0.2716\n",
      "Epoch 2/100\n",
      "90/90 [==============================] - 78s 872ms/step - loss: 7.1147 - accuracy: 0.2799 - val_loss: 5.9230 - val_accuracy: 0.2841\n",
      "Epoch 3/100\n",
      "90/90 [==============================] - 80s 894ms/step - loss: 4.9144 - accuracy: 0.3055 - val_loss: 4.5986 - val_accuracy: 0.2981\n",
      "Epoch 4/100\n",
      "90/90 [==============================] - 76s 846ms/step - loss: 3.6230 - accuracy: 0.3366 - val_loss: 3.6947 - val_accuracy: 0.3210\n",
      "Epoch 5/100\n",
      "90/90 [==============================] - 41s 451ms/step - loss: 2.8804 - accuracy: 0.3612 - val_loss: 3.2192 - val_accuracy: 0.3162\n",
      "Epoch 6/100\n",
      "90/90 [==============================] - 35s 391ms/step - loss: 2.4010 - accuracy: 0.3816 - val_loss: 3.0042 - val_accuracy: 0.3085\n",
      "Epoch 7/100\n",
      "90/90 [==============================] - 33s 372ms/step - loss: 2.1425 - accuracy: 0.3924 - val_loss: 2.6626 - val_accuracy: 0.3419\n",
      "Epoch 8/100\n",
      "90/90 [==============================] - 33s 367ms/step - loss: 1.9449 - accuracy: 0.4093 - val_loss: 2.4950 - val_accuracy: 0.3489\n",
      "Epoch 9/100\n",
      "90/90 [==============================] - 33s 365ms/step - loss: 1.7810 - accuracy: 0.4183 - val_loss: 2.4552 - val_accuracy: 0.3315\n",
      "Epoch 10/100\n",
      "90/90 [==============================] - 32s 357ms/step - loss: 1.7098 - accuracy: 0.4312 - val_loss: 2.3827 - val_accuracy: 0.3350\n",
      "Epoch 11/100\n",
      "90/90 [==============================] - 32s 357ms/step - loss: 1.6553 - accuracy: 0.4284 - val_loss: 2.3058 - val_accuracy: 0.3635\n",
      "Epoch 12/100\n",
      "90/90 [==============================] - 32s 353ms/step - loss: 1.6237 - accuracy: 0.4269 - val_loss: 2.2941 - val_accuracy: 0.3412\n",
      "Epoch 13/100\n",
      "90/90 [==============================] - 31s 350ms/step - loss: 1.5925 - accuracy: 0.4378 - val_loss: 2.2615 - val_accuracy: 0.3301\n",
      "Epoch 14/100\n",
      "90/90 [==============================] - 31s 349ms/step - loss: 1.5837 - accuracy: 0.4335 - val_loss: 2.1826 - val_accuracy: 0.3733\n",
      "Epoch 15/100\n",
      "90/90 [==============================] - 31s 345ms/step - loss: 1.5478 - accuracy: 0.4429 - val_loss: 2.1662 - val_accuracy: 0.3614\n",
      "Epoch 16/100\n",
      "90/90 [==============================] - 31s 343ms/step - loss: 1.5289 - accuracy: 0.4436 - val_loss: 2.2256 - val_accuracy: 0.3496\n",
      "Epoch 17/100\n",
      "90/90 [==============================] - 31s 343ms/step - loss: 1.5319 - accuracy: 0.4507 - val_loss: 2.1869 - val_accuracy: 0.3628\n",
      "Epoch 18/100\n",
      "90/90 [==============================] - 31s 341ms/step - loss: 1.5433 - accuracy: 0.4385 - val_loss: 2.1789 - val_accuracy: 0.3670\n",
      "Epoch 19/100\n",
      "90/90 [==============================] - 31s 350ms/step - loss: 1.5470 - accuracy: 0.4436 - val_loss: 2.1956 - val_accuracy: 0.3531\n",
      "Epoch 20/100\n",
      "90/90 [==============================] - 30s 338ms/step - loss: 1.5190 - accuracy: 0.4526 - val_loss: 2.2304 - val_accuracy: 0.3740\n",
      "Epoch 21/100\n",
      "90/90 [==============================] - 30s 336ms/step - loss: 1.5570 - accuracy: 0.4300 - val_loss: 2.1968 - val_accuracy: 0.3377\n",
      "Epoch 22/100\n",
      "90/90 [==============================] - 30s 337ms/step - loss: 1.5271 - accuracy: 0.4317 - val_loss: 2.2632 - val_accuracy: 0.3489\n",
      "Epoch 23/100\n",
      "90/90 [==============================] - 30s 336ms/step - loss: 1.5383 - accuracy: 0.4354 - val_loss: 2.2107 - val_accuracy: 0.3558\n",
      "Epoch 24/100\n",
      "90/90 [==============================] - 30s 334ms/step - loss: 1.5183 - accuracy: 0.4446 - val_loss: 2.2140 - val_accuracy: 0.3482\n",
      "Epoch 25/100\n",
      "90/90 [==============================] - 30s 331ms/step - loss: 1.5198 - accuracy: 0.4493 - val_loss: 2.2364 - val_accuracy: 0.3419\n",
      "Epoch 26/100\n",
      "90/90 [==============================] - 30s 329ms/step - loss: 1.5074 - accuracy: 0.4443 - val_loss: 2.3204 - val_accuracy: 0.3155\n",
      "Epoch 27/100\n",
      "90/90 [==============================] - 30s 332ms/step - loss: 1.5425 - accuracy: 0.4410 - val_loss: 2.3393 - val_accuracy: 0.3726\n",
      "Epoch 28/100\n",
      "90/90 [==============================] - 30s 329ms/step - loss: 1.5337 - accuracy: 0.4443 - val_loss: 2.2342 - val_accuracy: 0.3698\n",
      "Epoch 29/100\n",
      "90/90 [==============================] - 30s 331ms/step - loss: 1.5085 - accuracy: 0.4500 - val_loss: 2.2594 - val_accuracy: 0.3628\n",
      "Epoch 30/100\n",
      "90/90 [==============================] - 29s 328ms/step - loss: 1.5045 - accuracy: 0.4511 - val_loss: 2.3660 - val_accuracy: 0.3162\n",
      "Epoch 31/100\n",
      "90/90 [==============================] - 29s 327ms/step - loss: 1.5123 - accuracy: 0.4495 - val_loss: 2.2929 - val_accuracy: 0.3384\n",
      "Epoch 32/100\n",
      "90/90 [==============================] - 29s 328ms/step - loss: 1.5144 - accuracy: 0.4371 - val_loss: 2.3687 - val_accuracy: 0.3273\n",
      "Epoch 33/100\n",
      "90/90 [==============================] - 29s 327ms/step - loss: 1.5276 - accuracy: 0.4455 - val_loss: 2.2991 - val_accuracy: 0.3475\n",
      "Epoch 34/100\n",
      "90/90 [==============================] - 30s 329ms/step - loss: 1.5019 - accuracy: 0.4467 - val_loss: 2.2680 - val_accuracy: 0.3503\n",
      "Epoch 35/100\n",
      "90/90 [==============================] - 29s 325ms/step - loss: 1.5141 - accuracy: 0.4389 - val_loss: 2.3850 - val_accuracy: 0.3510\n",
      "Epoch 36/100\n",
      "90/90 [==============================] - 29s 326ms/step - loss: 1.5148 - accuracy: 0.4537 - val_loss: 2.4039 - val_accuracy: 0.3398\n",
      "Epoch 37/100\n",
      "90/90 [==============================] - 29s 325ms/step - loss: 1.5258 - accuracy: 0.4439 - val_loss: 2.3608 - val_accuracy: 0.3579\n",
      "Epoch 38/100\n",
      "90/90 [==============================] - 29s 323ms/step - loss: 1.5099 - accuracy: 0.4455 - val_loss: 2.3315 - val_accuracy: 0.3503\n",
      "Epoch 39/100\n",
      "90/90 [==============================] - 29s 325ms/step - loss: 1.5068 - accuracy: 0.4457 - val_loss: 2.2986 - val_accuracy: 0.3635\n",
      "Epoch 40/100\n",
      "90/90 [==============================] - ETA: 0s - loss: 1.5029 - accuracy: 0.4511Restoring model weights from the end of the best epoch: 20.\n",
      "90/90 [==============================] - 29s 326ms/step - loss: 1.5029 - accuracy: 0.4511 - val_loss: 2.3254 - val_accuracy: 0.3398\n",
      "Epoch 40: early stopping\n"
     ]
    }
   ],
   "source": [
    "es1=keras.callbacks.EarlyStopping(monitor='val_accuracy',mode='max',verbose=1,patience=20,restore_best_weights=True)\n",
    "hist=model.fit(x_train,y_train,batch_size=64,epochs=100,validation_split=0.2,callbacks=[es1])"
   ]
  },
  {
   "cell_type": "code",
   "execution_count": 45,
   "id": "7c13fb0e",
   "metadata": {},
   "outputs": [
    {
     "data": {
      "text/plain": [
       "<matplotlib.legend.Legend at 0x1f537b77ac0>"
      ]
     },
     "execution_count": 45,
     "metadata": {},
     "output_type": "execute_result"
    },
    {
     "data": {
      "image/png": "[encoded data removed]",
      "text/plain": [
       "<Figure size 432x288 with 1 Axes>"
      ]
     },
     "metadata": {
      "needs_background": "light"
     },
     "output_type": "display_data"
    }
   ],
   "source": [
    "plt.plot(hist.history['val_loss'],label=\"validation\")\n",
    "plt.plot(hist.history['loss'],label='train')\n",
    "plt.xlabel('Epochs')\n",
    "plt.ylabel(\"Loss\")\n",
    "plt.legend()"
   ]
  },
  {
   "cell_type": "code",
   "execution_count": 46,
   "id": "05eee9cd",
   "metadata": {},
   "outputs": [
    {
     "data": {
      "text/plain": [
       "<matplotlib.legend.Legend at 0x1f537bed970>"
      ]
     },
     "execution_count": 46,
     "metadata": {},
     "output_type": "execute_result"
    },
    {
     "data": {
      "image/png": "[encoded data removed]",
      "text/plain": [
       "<Figure size 432x288 with 1 Axes>"
      ]
     },
     "metadata": {
      "needs_background": "light"
     },
     "output_type": "display_data"
    }
   ],
   "source": [
    "plt.plot(hist.history['val_accuracy'],label=\"validation\")\n",
    "plt.plot(hist.history['accuracy'],label='train')\n",
    "plt.xlabel('Epochs')\n",
    "plt.ylabel(\"accuracy\")\n",
    "plt.legend()"
   ]
  },
  {
   "cell_type": "code",
   "execution_count": 47,
   "id": "59c68d9f",
   "metadata": {},
   "outputs": [
    {
     "name": "stdout",
     "output_type": "stream",
     "text": [
      "Model: \"vgg16\"\n",
      "_________________________________________________________________\n",
      " Layer (type)                Output Shape              Param #   \n",
      "=================================================================\n",
      " input_3 (InputLayer)        [(None, 48, 48, 3)]       0         \n",
      "                                                                 \n",
      " block1_conv1 (Conv2D)       (None, 48, 48, 64)        1792      \n",
      "                                                                 \n",
      " block1_conv2 (Conv2D)       (None, 48, 48, 64)        36928     \n",
      "                                                                 \n",
      " block1_pool (MaxPooling2D)  (None, 24, 24, 64)        0         \n",
      "                                                                 \n",
      " block2_conv1 (Conv2D)       (None, 24, 24, 128)       73856     \n",
      "                                                                 \n",
      " block2_conv2 (Conv2D)       (None, 24, 24, 128)       147584    \n",
      "                                                                 \n",
      " block2_pool (MaxPooling2D)  (None, 12, 12, 128)       0         \n",
      "                                                                 \n",
      " block3_conv1 (Conv2D)       (None, 12, 12, 256)       295168    \n",
      "                                                                 \n",
      " block3_conv2 (Conv2D)       (None, 12, 12, 256)       590080    \n",
      "                                                                 \n",
      " block3_conv3 (Conv2D)       (None, 12, 12, 256)       590080    \n",
      "                                                                 \n",
      " block3_pool (MaxPooling2D)  (None, 6, 6, 256)         0         \n",
      "                                                                 \n",
      " block4_conv1 (Conv2D)       (None, 6, 6, 512)         1180160   \n",
      "                                                                 \n",
      " block4_conv2 (Conv2D)       (None, 6, 6, 512)         2359808   \n",
      "                                                                 \n",
      " block4_conv3 (Conv2D)       (None, 6, 6, 512)         2359808   \n",
      "                                                                 \n",
      " block4_pool (MaxPooling2D)  (None, 3, 3, 512)         0         \n",
      "                                                                 \n",
      " block5_conv1 (Conv2D)       (None, 3, 3, 512)         2359808   \n",
      "                                                                 \n",
      " block5_conv2 (Conv2D)       (None, 3, 3, 512)         2359808   \n",
      "                                                                 \n",
      " block5_conv3 (Conv2D)       (None, 3, 3, 512)         2359808   \n",
      "                                                                 \n",
      " block5_pool (MaxPooling2D)  (None, 1, 1, 512)         0         \n",
      "                                                                 \n",
      "=================================================================\n",
      "Total params: 14714688 (56.13 MB)\n",
      "Trainable params: 14714688 (56.13 MB)\n",
      "Non-trainable params: 0 (0.00 Byte)\n",
      "_________________________________________________________________\n"
     ]
    }
   ],
   "source": [
    "base_model1=VGG16(weights='imagenet',include_top=False,input_shape=(48,48,3))\n",
    "base_model1.summary()"
   ]
  },
  {
   "cell_type": "code",
   "execution_count": 48,
   "id": "98f932e2",
   "metadata": {},
   "outputs": [],
   "source": [
    "for i in range(15):\n",
    "    base_model1.layers[i].trainable=False"
   ]
  },
  {
   "cell_type": "code",
   "execution_count": 49,
   "id": "69582c49",
   "metadata": {},
   "outputs": [
    {
     "name": "stdout",
     "output_type": "stream",
     "text": [
      "Model: \"model_1\"\n",
      "_________________________________________________________________\n",
      " Layer (type)                Output Shape              Param #   \n",
      "=================================================================\n",
      " input_3 (InputLayer)        [(None, 48, 48, 3)]       0         \n",
      "                                                                 \n",
      " block1_conv1 (Conv2D)       (None, 48, 48, 64)        1792      \n",
      "                                                                 \n",
      " block1_conv2 (Conv2D)       (None, 48, 48, 64)        36928     \n",
      "                                                                 \n",
      " block1_pool (MaxPooling2D)  (None, 24, 24, 64)        0         \n",
      "                                                                 \n",
      " block2_conv1 (Conv2D)       (None, 24, 24, 128)       73856     \n",
      "                                                                 \n",
      " block2_conv2 (Conv2D)       (None, 24, 24, 128)       147584    \n",
      "                                                                 \n",
      " block2_pool (MaxPooling2D)  (None, 12, 12, 128)       0         \n",
      "                                                                 \n",
      " block3_conv1 (Conv2D)       (None, 12, 12, 256)       295168    \n",
      "                                                                 \n",
      " block3_conv2 (Conv2D)       (None, 12, 12, 256)       590080    \n",
      "                                                                 \n",
      " block3_conv3 (Conv2D)       (None, 12, 12, 256)       590080    \n",
      "                                                                 \n",
      " block3_pool (MaxPooling2D)  (None, 6, 6, 256)         0         \n",
      "                                                                 \n",
      " block4_conv1 (Conv2D)       (None, 6, 6, 512)         1180160   \n",
      "                                                                 \n",
      " block4_conv2 (Conv2D)       (None, 6, 6, 512)         2359808   \n",
      "                                                                 \n",
      " block4_conv3 (Conv2D)       (None, 6, 6, 512)         2359808   \n",
      "                                                                 \n",
      " block4_pool (MaxPooling2D)  (None, 3, 3, 512)         0         \n",
      "                                                                 \n",
      " block5_conv1 (Conv2D)       (None, 3, 3, 512)         2359808   \n",
      "                                                                 \n",
      " block5_conv2 (Conv2D)       (None, 3, 3, 512)         2359808   \n",
      "                                                                 \n",
      " block5_conv3 (Conv2D)       (None, 3, 3, 512)         2359808   \n",
      "                                                                 \n",
      " block5_pool (MaxPooling2D)  (None, 1, 1, 512)         0         \n",
      "                                                                 \n",
      " flatten_2 (Flatten)         (None, 512)               0         \n",
      "                                                                 \n",
      " dense_2 (Dense)             (None, 7)                 3591      \n",
      "                                                                 \n",
      "=================================================================\n",
      "Total params: 14718279 (56.15 MB)\n",
      "Trainable params: 7083015 (27.02 MB)\n",
      "Non-trainable params: 7635264 (29.13 MB)\n",
      "_________________________________________________________________\n"
     ]
    }
   ],
   "source": [
    "y=base_model1.layers[-1].output\n",
    "y=Flatten()(y)\n",
    "y=Dense(7,activation='softmax')(y)\n",
    "    \n",
    "model1=Model(inputs=base_model1.input,outputs=y)\n",
    "model1.summary()"
   ]
  },
  {
   "cell_type": "code",
   "execution_count": 50,
   "id": "0c61bd73",
   "metadata": {},
   "outputs": [],
   "source": [
    "opt=keras.optimizers.Adam(learning_rate=0.05)\n",
    "model1.compile(optimizer=opt,loss='sparse_categorical_crossentropy',metrics=['accuracy'])"
   ]
  },
  {
   "cell_type": "code",
   "execution_count": 51,
   "id": "06657d48",
   "metadata": {},
   "outputs": [
    {
     "name": "stdout",
     "output_type": "stream",
     "text": [
      "Epoch 1/100\n",
      "90/90 [==============================] - 39s 417ms/step - loss: 953353.5625 - accuracy: 0.1768 - val_loss: 777.4057 - val_accuracy: 0.1720\n",
      "Epoch 2/100\n",
      "90/90 [==============================] - 37s 415ms/step - loss: 406.3519 - accuracy: 0.2233 - val_loss: 2.0058 - val_accuracy: 0.1497\n",
      "Epoch 3/100\n",
      "90/90 [==============================] - 37s 416ms/step - loss: 4.3417 - accuracy: 0.2184 - val_loss: 1.8013 - val_accuracy: 0.2653\n",
      "Epoch 4/100\n",
      "90/90 [==============================] - 37s 414ms/step - loss: 1.8316 - accuracy: 0.2285 - val_loss: 1.8002 - val_accuracy: 0.2653\n",
      "Epoch 5/100\n",
      "90/90 [==============================] - 37s 414ms/step - loss: 1.8279 - accuracy: 0.2332 - val_loss: 1.8104 - val_accuracy: 0.2653\n",
      "Epoch 6/100\n",
      "90/90 [==============================] - 37s 416ms/step - loss: 1.8342 - accuracy: 0.2276 - val_loss: 1.8248 - val_accuracy: 0.2653\n",
      "Epoch 7/100\n",
      "90/90 [==============================] - 39s 433ms/step - loss: 1.8387 - accuracy: 0.2219 - val_loss: 1.8021 - val_accuracy: 0.2653\n",
      "Epoch 8/100\n",
      "90/90 [==============================] - 38s 418ms/step - loss: 1.8344 - accuracy: 0.2255 - val_loss: 1.8181 - val_accuracy: 0.2653\n",
      "Epoch 9/100\n",
      "90/90 [==============================] - 37s 414ms/step - loss: 1.8326 - accuracy: 0.2248 - val_loss: 1.7996 - val_accuracy: 0.2653\n",
      "Epoch 10/100\n",
      "90/90 [==============================] - 46s 514ms/step - loss: 1.8289 - accuracy: 0.2358 - val_loss: 1.8153 - val_accuracy: 0.2653\n",
      "Epoch 11/100\n",
      "90/90 [==============================] - 68s 762ms/step - loss: 1.8318 - accuracy: 0.2299 - val_loss: 1.8240 - val_accuracy: 0.2653\n",
      "Epoch 12/100\n",
      "90/90 [==============================] - 77s 852ms/step - loss: 1.8414 - accuracy: 0.2234 - val_loss: 1.8549 - val_accuracy: 0.2653\n",
      "Epoch 13/100\n",
      "90/90 [==============================] - 95s 1s/step - loss: 1.8360 - accuracy: 0.2292 - val_loss: 1.8042 - val_accuracy: 0.2653\n",
      "Epoch 14/100\n",
      "90/90 [==============================] - 99s 1s/step - loss: 1.8282 - accuracy: 0.2374 - val_loss: 1.8178 - val_accuracy: 0.2653\n",
      "Epoch 15/100\n",
      "90/90 [==============================] - 105s 1s/step - loss: 1.8318 - accuracy: 0.2327 - val_loss: 1.8199 - val_accuracy: 0.2653\n",
      "Epoch 16/100\n",
      "90/90 [==============================] - 102s 1s/step - loss: 1.8330 - accuracy: 0.2308 - val_loss: 1.8148 - val_accuracy: 0.2653\n",
      "Epoch 17/100\n",
      "90/90 [==============================] - 105s 1s/step - loss: 1.8399 - accuracy: 0.2273 - val_loss: 1.8090 - val_accuracy: 0.2653\n",
      "Epoch 18/100\n",
      "90/90 [==============================] - 101s 1s/step - loss: 1.8353 - accuracy: 0.2280 - val_loss: 1.8097 - val_accuracy: 0.2653\n",
      "Epoch 19/100\n",
      "90/90 [==============================] - 99s 1s/step - loss: 1.8335 - accuracy: 0.2231 - val_loss: 1.8071 - val_accuracy: 0.2653\n",
      "Epoch 20/100\n",
      "90/90 [==============================] - 104s 1s/step - loss: 1.8291 - accuracy: 0.2292 - val_loss: 1.8052 - val_accuracy: 0.2653\n",
      "Epoch 21/100\n",
      "90/90 [==============================] - 105s 1s/step - loss: 1.8310 - accuracy: 0.2288 - val_loss: 1.8329 - val_accuracy: 0.2653\n",
      "Epoch 22/100\n",
      "90/90 [==============================] - 72s 796ms/step - loss: 1.8267 - accuracy: 0.2328 - val_loss: 1.8056 - val_accuracy: 0.2653\n",
      "Epoch 23/100\n",
      "90/90 [==============================] - ETA: 0s - loss: 1.8406 - accuracy: 0.2339Restoring model weights from the end of the best epoch: 3.\n",
      "90/90 [==============================] - 72s 808ms/step - loss: 1.8406 - accuracy: 0.2339 - val_loss: 1.8262 - val_accuracy: 0.2653\n",
      "Epoch 23: early stopping\n"
     ]
    }
   ],
   "source": [
    "es2=keras.callbacks.EarlyStopping(monitor='val_accuracy',mode='max',verbose=1,patience=20,restore_best_weights=True)\n",
    "hist1=model1.fit(x_train,y_train,batch_size=64,epochs=100,validation_split=0.2,callbacks=[es2])"
   ]
  },
  {
   "cell_type": "code",
   "execution_count": 52,
   "id": "8261d60e",
   "metadata": {},
   "outputs": [
    {
     "data": {
      "text/plain": [
       "<matplotlib.legend.Legend at 0x1f57fdbbdc0>"
      ]
     },
     "execution_count": 52,
     "metadata": {},
     "output_type": "execute_result"
    },
    {
     "data": {
      "image/png": "[encoded data removed]",
      "text/plain": [
       "<Figure size 432x288 with 1 Axes>"
      ]
     },
     "metadata": {
      "needs_background": "light"
     },
     "output_type": "display_data"
    }
   ],
   "source": [
    "plt.plot(hist1.history['val_loss'],label=\"validation\")\n",
    "plt.plot(hist1.history['loss'],label='train')\n",
    "plt.xlabel('Epochs')\n",
    "plt.ylabel(\"Loss\")\n",
    "plt.legend()"
   ]
  },
  {
   "cell_type": "code",
   "execution_count": 53,
   "id": "dd32e0f4",
   "metadata": {},
   "outputs": [
    {
     "data": {
      "text/plain": [
       "<matplotlib.legend.Legend at 0x1f5271e4100>"
      ]
     },
     "execution_count": 53,
     "metadata": {},
     "output_type": "execute_result"
    },
    {
     "data": {
      "image/png": "[encoded data removed]",
      "text/plain": [
       "<Figure size 432x288 with 1 Axes>"
      ]
     },
     "metadata": {
      "needs_background": "light"
     },
     "output_type": "display_data"
    }
   ],
   "source": [
    "plt.plot(hist1.history['val_accuracy'],label=\"validation\")\n",
    "plt.plot(hist1.history['accuracy'],label='train')\n",
    "plt.xlabel('Epochs')\n",
    "plt.ylabel(\"accuracy\")\n",
    "plt.legend()"
   ]
  },
  {
   "cell_type": "code",
   "execution_count": 54,
   "id": "a0e0c735",
   "metadata": {},
   "outputs": [
    {
     "name": "stdout",
     "output_type": "stream",
     "text": [
      "Model: \"vgg16\"\n",
      "_________________________________________________________________\n",
      " Layer (type)                Output Shape              Param #   \n",
      "=================================================================\n",
      " input_4 (InputLayer)        [(None, 48, 48, 3)]       0         \n",
      "                                                                 \n",
      " block1_conv1 (Conv2D)       (None, 48, 48, 64)        1792      \n",
      "                                                                 \n",
      " block1_conv2 (Conv2D)       (None, 48, 48, 64)        36928     \n",
      "                                                                 \n",
      " block1_pool (MaxPooling2D)  (None, 24, 24, 64)        0         \n",
      "                                                                 \n",
      " block2_conv1 (Conv2D)       (None, 24, 24, 128)       73856     \n",
      "                                                                 \n",
      " block2_conv2 (Conv2D)       (None, 24, 24, 128)       147584    \n",
      "                                                                 \n",
      " block2_pool (MaxPooling2D)  (None, 12, 12, 128)       0         \n",
      "                                                                 \n",
      " block3_conv1 (Conv2D)       (None, 12, 12, 256)       295168    \n",
      "                                                                 \n",
      " block3_conv2 (Conv2D)       (None, 12, 12, 256)       590080    \n",
      "                                                                 \n",
      " block3_conv3 (Conv2D)       (None, 12, 12, 256)       590080    \n",
      "                                                                 \n",
      " block3_pool (MaxPooling2D)  (None, 6, 6, 256)         0         \n",
      "                                                                 \n",
      " block4_conv1 (Conv2D)       (None, 6, 6, 512)         1180160   \n",
      "                                                                 \n",
      " block4_conv2 (Conv2D)       (None, 6, 6, 512)         2359808   \n",
      "                                                                 \n",
      " block4_conv3 (Conv2D)       (None, 6, 6, 512)         2359808   \n",
      "                                                                 \n",
      " block4_pool (MaxPooling2D)  (None, 3, 3, 512)         0         \n",
      "                                                                 \n",
      " block5_conv1 (Conv2D)       (None, 3, 3, 512)         2359808   \n",
      "                                                                 \n",
      " block5_conv2 (Conv2D)       (None, 3, 3, 512)         2359808   \n",
      "                                                                 \n",
      " block5_conv3 (Conv2D)       (None, 3, 3, 512)         2359808   \n",
      "                                                                 \n",
      " block5_pool (MaxPooling2D)  (None, 1, 1, 512)         0         \n",
      "                                                                 \n",
      "=================================================================\n",
      "Total params: 14714688 (56.13 MB)\n",
      "Trainable params: 14714688 (56.13 MB)\n",
      "Non-trainable params: 0 (0.00 Byte)\n",
      "_________________________________________________________________\n"
     ]
    }
   ],
   "source": [
    "base_model2=VGG16(weights='imagenet',include_top=False,input_shape=(48,48,3))\n",
    "base_model2.summary()"
   ]
  },
  {
   "cell_type": "code",
   "execution_count": null,
   "id": "8e02bca7-c26b-47af-bca3-c4334e40a23f",
   "metadata": {},
   "outputs": [],
   "source": []
  },
  {
   "cell_type": "code",
   "execution_count": null,
   "id": "d08c27a1-5d28-4cb9-a798-f30d06a4c270",
   "metadata": {},
   "outputs": [],
   "source": []
  }
 ],
 "metadata": {
  "kernelspec": {
   "display_name": "Python 3 (ipykernel)",
   "language": "python",
   "name": "python3"
  },
  "language_info": {
   "codemirror_mode": {
    "name": "ipython",
    "version": 3
   },
   "file_extension": ".py",
   "mimetype": "text/x-python",
   "name": "python",
   "nbconvert_exporter": "python",
   "pygments_lexer": "ipython3",
   "version": "3.9.12"
  }
 },
 "nbformat": 4,
 "nbformat_minor": 5
}
